{
 "cells": [
  {
   "cell_type": "markdown",
   "metadata": {},
   "source": [
    "## Parte 1 - Preguntas Teóricas\n",
    "**1. Defina los componentes de las Cadenas de Markov**\n",
    "\n",
    "Los componentes de las Cadenas de Markov son: estados y transiciones. Los estados son los posibles valores que puede tomar la variable aleatoria en un momento dado. Las transiciones son las posibles formas en las que la variable aleatoria puede cambiar de estado.\n",
    "\n",
    "**2. Defina por lo menos 3 propiedades de las Cadenas de Markov**\n",
    "\n",
    "Las Cadenas de Markov tienen las siguientes propiedades: propiedad de Markov, propiedad de transición, propiedad de estado estable, y propiedad de recurrencia. La propiedad de Markov establece que la probabilidad de que la variable aleatoria cambie de estado depende únicamente del estado actual y no de los estados anteriores. La propiedad de transición establece que la probabilidad de que la variable aleatoria cambie de estado es la misma para todos los estados. La propiedad de estado estable establece que la probabilidad de que la variable aleatoria cambie de estado es la misma para todos los estados. La propiedad de recurrencia establece que la probabilidad de que la variable aleatoria cambie de estado es la misma para todos los estados.\n",
    "\n",
    "**3. ¿Por qué se suele usar procesos de Poisson para simular colas?**\n",
    "\n",
    "Se suelen usar procesos de Poisson para simular colas porque sirven para modelar eventos que ocurren de forma aleatoria e independiente en un intervalo de tiempo. Por ejemplo, el número de clientes que llegan a una tienda en un intervalo de tiempo dado.\n",
    "\n",
    "**4. Defina las dos etapas que se suelen emplear para Simulation Optimization**\n",
    "\n",
    "Las dos etapas que se suelen emplear para Simulation Optimization son: la etapa de simulación y la etapa de optimización. La etapa de simulación consiste en simular el sistema para obtener datos de entrada para la etapa de optimización. La etapa de optimización consiste en optimizar el sistema para obtener los mejores resultados posibles."
   ]
  },
  {
   "cell_type": "markdown",
   "metadata": {},
   "source": [
    "## Parte 2 - Pregunta Práctica\n",
    "Usando lo visto sobre análisis de sensibilidad, use un acercamiento de Análisis de Sensibilidad Global para\n",
    "responder al siguiente problema. Puede usar herramientas de Inteligencia Artificial (ChatGPT, etc) para resolver esta\n",
    "parte. Asegúrese de explicar los prompts usados y su lógica en cómo evolucionó. Finalmente, responda las\n",
    "preguntas que se presentan al final.\n",
    "\n",
    "Usted tiene la tarea de evaluar una oportunidad de inversión en un determinado horizonte de inversión. La inversión\n",
    "involucra factores inciertos, como, la tasa de interés y la volatilidad de los rendimientos. Desea analizar cómo las\n",
    "variaciones en estos factores influyen en el valor actual neto (VAN) de la inversión.\n",
    "- Número de simulaciones: 1000\n",
    "- Horizonte de Inversión: 5 años\n",
    "- Tasa de descuento: 0,1 (utilizado para calcular los flujos de efectivo descontados)\n",
    "- Variables del problema:\n",
    "- Tasa de Interés: Rangos de 0.08 a 0.12\n",
    "- Volatilidad: Rangos de 0.15 a 0.25"
   ]
  },
  {
   "cell_type": "code",
   "execution_count": 25,
   "metadata": {},
   "outputs": [
    {
     "name": "stdout",
     "output_type": "stream",
     "text": [
      "                    ST   ST_conf\n",
      "tasa_interes  0.955371  0.072185\n",
      "Volatilidad   1.042141  0.077695\n",
      "                    S1   S1_conf\n",
      "tasa_interes -0.007968  0.082666\n",
      "Volatilidad   0.119419  0.090177\n",
      "                                   S2   S2_conf\n",
      "[tasa_interes, Volatilidad] -0.101704  0.118304\n",
      "[-0.00796821  0.11941856]\n",
      "[[        nan -0.10170366]\n",
      " [        nan         nan]]\n"
     ]
    },
    {
     "name": "stderr",
     "output_type": "stream",
     "text": [
      "C:\\Users\\Diego-CB\\AppData\\Local\\Temp\\ipykernel_22676\\3715455151.py:30: DeprecationWarning: `salib.sample.saltelli` will be removed in SALib 1.5. Please use `salib.sample.sobol`\n",
      "  param_values = saltelli.sample(problem, No_simulaciones, calc_second_order=True)\n",
      "d:\\GitHub\\Semestre-8\\ModSim-Corto2\\venv\\Lib\\site-packages\\SALib\\sample\\saltelli.py:109: UserWarning: \n",
      "        Convergence properties of the Sobol' sequence is only valid if\n",
      "        `N` (1000) is equal to `2^n`.\n",
      "        \n",
      "  warnings.warn(msg)\n"
     ]
    }
   ],
   "source": [
    "from SALib.sample import saltelli\n",
    "from SALib.analyze import sobol\n",
    "from SALib.test_functions import Ishigami\n",
    "import numpy as np\n",
    "\n",
    "No_simulaciones = 1000\n",
    "tasa_descuento = 0.1\n",
    "\n",
    "def simular_vpn():\n",
    "    horizonte = 5\n",
    "    flujos_caja = np.random.normal(500000, 100000, horizonte)\n",
    "    flujos_descontados = [\n",
    "        flujo / (1 + tasa_descuento)**(i+1)\n",
    "            for i, flujo in enumerate(flujos_caja)\n",
    "    ]\n",
    "    \n",
    "    return sum(flujos_descontados)\n",
    "\n",
    "\n",
    "problem = {\n",
    "    'num_vars': 2,\n",
    "    'names': ['tasa_interes', 'Volatilidad'],\n",
    "    'bounds': [\n",
    "        [0.08, 0.12],\n",
    "        [0.15, 0.25]\n",
    "    ]\n",
    "}\n",
    "\n",
    "# Sampleo\n",
    "param_values = saltelli.sample(problem, No_simulaciones, calc_second_order=True)\n",
    "output_values = np.array([simular_vpn() for _ in range(len(param_values))])\n",
    "\n",
    "# Analisis Sobol\n",
    "Si = sobol.analyze(problem, output_values, print_to_console=True)\n",
    "\n",
    "# Print the first-order sensitivity indices\n",
    "print(Si['S1'])\n",
    "print(Si['S2'])"
   ]
  },
  {
   "cell_type": "code",
   "execution_count": 32,
   "metadata": {},
   "outputs": [
    {
     "data": {
      "image/png": "[encoded data removed]",
      "text/plain": [
       "<Figure size 640x480 with 1 Axes>"
      ]
     },
     "metadata": {},
     "output_type": "display_data"
    }
   ],
   "source": [
    "import matplotlib.pyplot as plt\n",
    "S1 = Si['S1']\n",
    "\n",
    "# Nombres de las variables\n",
    "variable_names = problem['names']\n",
    "\n",
    "# Graficar los índices de sensibilidad\n",
    "plt.bar(variable_names, S1, label='S1 (1st order)', yerr=S1.std(axis=0), alpha=0.7)\n",
    "\n",
    "plt.ylabel('Sensitivity Index')\n",
    "plt.title('Sensitivity Analysis')\n",
    "plt.legend()\n",
    "plt.show()"
   ]
  },
  {
   "cell_type": "markdown",
   "metadata": {},
   "source": [
    "**Preguntas:**\n",
    "1. ¿Qué tanto influye cada variable en el VPN?\n",
    "2. ¿Qué variable influye más? ¿Por qué cree que es esto?\n",
    "3. ¿Hay una diferencia significativa en la influencia de cada variable? ¿Por qué?\n",
    "4. Si tuviera que hacer mejoras al análisis ¿qué podría hacer? (Puede usar recursos de internet para esta parte, sí puede usar ChatGPT de nuevo acá)"
   ]
  }
 ],
 "metadata": {
  "kernelspec": {
   "display_name": "venv",
   "language": "python",
   "name": "python3"
  },
  "language_info": {
   "codemirror_mode": {
    "name": "ipython",
    "version": 3
   },
   "file_extension": ".py",
   "mimetype": "text/x-python",
   "name": "python",
   "nbconvert_exporter": "python",
   "pygments_lexer": "ipython3",
   "version": "3.11.4"
  },
  "orig_nbformat": 4
 },
 "nbformat": 4,
 "nbformat_minor": 2
}
